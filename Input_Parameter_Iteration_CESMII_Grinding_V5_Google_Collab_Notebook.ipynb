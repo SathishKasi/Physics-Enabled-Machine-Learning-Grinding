{
  "cells": [
    {
      "cell_type": "markdown",
      "metadata": {
        "id": "view-in-github",
        "colab_type": "text"
      },
      "source": [
        "<a href=\"https://colab.research.google.com/github/SathishKasi/Physics-Enabled-Machine-Learning-Grinding/blob/main/Input_Parameter_Iteration_CESMII_Grinding_V5_Google_Collab_Notebook.ipynb\" target=\"_parent\"><img src=\"https://colab.research.google.com/assets/colab-badge.svg\" alt=\"Open In Colab\"/></a>"
      ]
    },
    {
      "cell_type": "markdown",
      "metadata": {
        "id": "xoxIF_bR6gTc"
      },
      "source": [
        "## Install necessary dependencies including numpy and tensorflow"
      ]
    },
    {
      "cell_type": "code",
      "source": [
        "from google.colab import drive\n",
        "drive.mount('/content/drive')"
      ],
      "metadata": {
        "colab": {
          "base_uri": "https://localhost:8080/"
        },
        "id": "aBV9xFPAqu8-",
        "outputId": "62654f79-3c6d-488a-ae69-4780df860750"
      },
      "execution_count": null,
      "outputs": [
        {
          "output_type": "stream",
          "name": "stdout",
          "text": [
            "Mounted at /content/drive\n"
          ]
        }
      ]
    },
    {
      "cell_type": "markdown",
      "metadata": {
        "id": "_6hTvzt26gTi"
      },
      "source": [
        "### In addition to Python & Jupyter notebooks, certain dependencies have to be installed for this model. That is what we shall do here."
      ]
    },
    {
      "cell_type": "code",
      "execution_count": null,
      "metadata": {
        "colab": {
          "base_uri": "https://localhost:8080/"
        },
        "id": "h5mwucWw6gTj",
        "outputId": "84cd5212-da62-4c60-a8ee-11ab803fcc4c"
      },
      "outputs": [
        {
          "output_type": "stream",
          "name": "stdout",
          "text": [
            "Requirement already satisfied: numpy in /usr/local/lib/python3.10/dist-packages (1.26.4)\n",
            "\u001b[31mERROR: Operation cancelled by user\u001b[0m\u001b[31m\n",
            "\u001b[0mRequirement already satisfied: tensorflow in /usr/local/lib/python3.10/dist-packages (2.17.1)\n",
            "Requirement already satisfied: absl-py>=1.0.0 in /usr/local/lib/python3.10/dist-packages (from tensorflow) (1.4.0)\n",
            "Requirement already satisfied: astunparse>=1.6.0 in /usr/local/lib/python3.10/dist-packages (from tensorflow) (1.6.3)\n",
            "Requirement already satisfied: flatbuffers>=24.3.25 in /usr/local/lib/python3.10/dist-packages (from tensorflow) (24.3.25)\n",
            "Requirement already satisfied: gast!=0.5.0,!=0.5.1,!=0.5.2,>=0.2.1 in /usr/local/lib/python3.10/dist-packages (from tensorflow) (0.6.0)\n",
            "Requirement already satisfied: google-pasta>=0.1.1 in /usr/local/lib/python3.10/dist-packages (from tensorflow) (0.2.0)\n",
            "Requirement already satisfied: h5py>=3.10.0 in /usr/local/lib/python3.10/dist-packages (from tensorflow) (3.12.1)\n",
            "Requirement already satisfied: libclang>=13.0.0 in /usr/local/lib/python3.10/dist-packages (from tensorflow) (18.1.1)\n",
            "Requirement already satisfied: ml-dtypes<0.5.0,>=0.3.1 in /usr/local/lib/python3.10/dist-packages (from tensorflow) (0.4.1)\n",
            "Requirement already satisfied: opt-einsum>=2.3.2 in /usr/local/lib/python3.10/dist-packages (from tensorflow) (3.4.0)\n",
            "Requirement already satisfied: packaging in /usr/local/lib/python3.10/dist-packages (from tensorflow) (24.2)\n",
            "Requirement already satisfied: protobuf!=4.21.0,!=4.21.1,!=4.21.2,!=4.21.3,!=4.21.4,!=4.21.5,<5.0.0dev,>=3.20.3 in /usr/local/lib/python3.10/dist-packages (from tensorflow) (4.25.5)\n",
            "Requirement already satisfied: requests<3,>=2.21.0 in /usr/local/lib/python3.10/dist-packages (from tensorflow) (2.32.3)\n",
            "Requirement already satisfied: setuptools in /usr/local/lib/python3.10/dist-packages (from tensorflow) (75.1.0)\n",
            "Requirement already satisfied: six>=1.12.0 in /usr/local/lib/python3.10/dist-packages (from tensorflow) (1.16.0)\n",
            "Requirement already satisfied: termcolor>=1.1.0 in /usr/local/lib/python3.10/dist-packages (from tensorflow) (2.5.0)\n",
            "Requirement already satisfied: typing-extensions>=3.6.6 in /usr/local/lib/python3.10/dist-packages (from tensorflow) (4.12.2)\n",
            "Requirement already satisfied: wrapt>=1.11.0 in /usr/local/lib/python3.10/dist-packages (from tensorflow) (1.16.0)\n",
            "Requirement already satisfied: grpcio<2.0,>=1.24.3 in /usr/local/lib/python3.10/dist-packages (from tensorflow) (1.68.0)\n",
            "Requirement already satisfied: tensorboard<2.18,>=2.17 in /usr/local/lib/python3.10/dist-packages (from tensorflow) (2.17.1)\n",
            "Requirement already satisfied: keras>=3.2.0 in /usr/local/lib/python3.10/dist-packages (from tensorflow) (3.5.0)\n",
            "Requirement already satisfied: tensorflow-io-gcs-filesystem>=0.23.1 in /usr/local/lib/python3.10/dist-packages (from tensorflow) (0.37.1)\n",
            "Requirement already satisfied: numpy<2.0.0,>=1.23.5 in /usr/local/lib/python3.10/dist-packages (from tensorflow) (1.26.4)\n",
            "Requirement already satisfied: wheel<1.0,>=0.23.0 in /usr/local/lib/python3.10/dist-packages (from astunparse>=1.6.0->tensorflow) (0.45.0)\n",
            "Requirement already satisfied: rich in /usr/local/lib/python3.10/dist-packages (from keras>=3.2.0->tensorflow) (13.9.4)\n",
            "Requirement already satisfied: namex in /usr/local/lib/python3.10/dist-packages (from keras>=3.2.0->tensorflow) (0.0.8)\n",
            "Requirement already satisfied: optree in /usr/local/lib/python3.10/dist-packages (from keras>=3.2.0->tensorflow) (0.13.1)\n",
            "Requirement already satisfied: charset-normalizer<4,>=2 in /usr/local/lib/python3.10/dist-packages (from requests<3,>=2.21.0->tensorflow) (3.4.0)\n",
            "Requirement already satisfied: idna<4,>=2.5 in /usr/local/lib/python3.10/dist-packages (from requests<3,>=2.21.0->tensorflow) (3.10)\n",
            "Requirement already satisfied: urllib3<3,>=1.21.1 in /usr/local/lib/python3.10/dist-packages (from requests<3,>=2.21.0->tensorflow) (2.2.3)\n",
            "Requirement already satisfied: certifi>=2017.4.17 in /usr/local/lib/python3.10/dist-packages (from requests<3,>=2.21.0->tensorflow) (2024.8.30)\n",
            "Requirement already satisfied: markdown>=2.6.8 in /usr/local/lib/python3.10/dist-packages (from tensorboard<2.18,>=2.17->tensorflow) (3.7)\n",
            "Requirement already satisfied: tensorboard-data-server<0.8.0,>=0.7.0 in /usr/local/lib/python3.10/dist-packages (from tensorboard<2.18,>=2.17->tensorflow) (0.7.2)\n",
            "Requirement already satisfied: werkzeug>=1.0.1 in /usr/local/lib/python3.10/dist-packages (from tensorboard<2.18,>=2.17->tensorflow) (3.1.3)\n",
            "Requirement already satisfied: MarkupSafe>=2.1.1 in /usr/local/lib/python3.10/dist-packages (from werkzeug>=1.0.1->tensorboard<2.18,>=2.17->tensorflow) (3.0.2)\n",
            "Requirement already satisfied: markdown-it-py>=2.2.0 in /usr/local/lib/python3.10/dist-packages (from rich->keras>=3.2.0->tensorflow) (3.0.0)\n",
            "Requirement already satisfied: pygments<3.0.0,>=2.13.0 in /usr/local/lib/python3.10/dist-packages (from rich->keras>=3.2.0->tensorflow) (2.18.0)\n",
            "Requirement already satisfied: mdurl~=0.1 in /usr/local/lib/python3.10/dist-packages (from markdown-it-py>=2.2.0->rich->keras>=3.2.0->tensorflow) (0.1.2)\n"
          ]
        }
      ],
      "source": [
        "# Install a pip package in the current Jupyter kernel\n",
        "import sys\n",
        "!{sys.executable} -m pip install numpy\n",
        "!{sys.executable} -m pip install tensorflow"
      ]
    },
    {
      "cell_type": "markdown",
      "metadata": {
        "id": "xNVk4cmA6gTk"
      },
      "source": [
        "## Importing all necessary Python libraries"
      ]
    },
    {
      "cell_type": "code",
      "execution_count": null,
      "metadata": {
        "id": "MuIwFrKg6gTl"
      },
      "outputs": [],
      "source": [
        "import numpy as np\n",
        "from keras.models import load_model"
      ]
    },
    {
      "cell_type": "markdown",
      "metadata": {
        "id": "9_pyNrAc6gTl"
      },
      "source": [
        "## Total stock value and Q'w range"
      ]
    },
    {
      "cell_type": "markdown",
      "metadata": {
        "id": "QNUywJhe6gTl"
      },
      "source": [
        "### The roughing stock on the part in inches and the Q'w limits are the primary inputs to the algorithm and hence we require them first."
      ]
    },
    {
      "cell_type": "code",
      "execution_count": null,
      "metadata": {
        "id": "0uii9bWs6gTm"
      },
      "outputs": [],
      "source": [
        "roughing_stock = 0.0285\n",
        "#Minimum value of Q'w\n",
        "min_qw = 5\n",
        "#Maximum value of Q'w.\n",
        "#This value can only be set after the successful test which does not cause harm to the part or to the quality of the part.\n",
        "max_qw = 6"
      ]
    },
    {
      "cell_type": "markdown",
      "metadata": {
        "id": "Pel1mk_96gTn"
      },
      "source": [
        "### The max Q'w value can only be set after the successful test which does not cause harm to the part or to the quality of the part.\n"
      ]
    },
    {
      "cell_type": "markdown",
      "metadata": {
        "id": "yYlP9OX96gTn"
      },
      "source": [
        "## The variation in dimension for the roughing operation is determined as an intermediate input"
      ]
    },
    {
      "cell_type": "code",
      "execution_count": null,
      "metadata": {
        "id": "IHna1fdj6gTo"
      },
      "outputs": [],
      "source": [
        "# Based on physics relationships CNC Kapps Niles Cylindrical Grinding. This equation should be fixed.\n",
        "var_dim = roughing_stock*5.26"
      ]
    },
    {
      "cell_type": "markdown",
      "metadata": {
        "id": "2jX065X26gTo"
      },
      "source": [
        "### The constant 5.26 is an empirical constant for the KAPP-NILES ZP 40 and ZP i25 machines alone."
      ]
    },
    {
      "cell_type": "markdown",
      "metadata": {
        "id": "tJG3uZ9u6gTo"
      },
      "source": [
        "## The number of cycles and revolutions limits can be altered here if required."
      ]
    },
    {
      "cell_type": "code",
      "execution_count": null,
      "metadata": {
        "id": "Sv78EIcO6gTp"
      },
      "outputs": [],
      "source": [
        "# The values of revolutions and cycles must be integers\n",
        "revolution = [1,2,3]\n",
        "cycle = [1,2,3,4]"
      ]
    },
    {
      "cell_type": "markdown",
      "metadata": {
        "id": "LQ13yBED6gTp"
      },
      "source": [
        "## The program creates an empty list to store all eligible radial infeeds, revolutions, and cycles' values"
      ]
    },
    {
      "cell_type": "code",
      "execution_count": null,
      "metadata": {
        "id": "k0Fh7F_p6gTp"
      },
      "outputs": [],
      "source": [
        "radial_infeed_list = []\n",
        "revolution_list =[]\n",
        "cycle_list = []"
      ]
    },
    {
      "cell_type": "markdown",
      "metadata": {
        "id": "TPUeATHx6gTp"
      },
      "source": [
        "## Determination of eligible radial infeed, revolution, and cycle values is done inline with modeled constraints"
      ]
    },
    {
      "cell_type": "code",
      "execution_count": null,
      "metadata": {
        "id": "WtbC6raB6gTq"
      },
      "outputs": [],
      "source": [
        "for i in range(len(revolution)):\n",
        "    for j in range(len(cycle)):\n",
        "# Based on physics relationships of CNC Kapps Niles Cylindrical Grinding. These equations should be fixed.\n",
        "        com = revolution[i]*cycle[j]\n",
        "        LF_stock = var_dim / (10.52 * com)\n",
        "        radial_infeed = LF_stock * 2.39\n",
        "#The radial_infeed value should be smaller than 0.005 and number of cycles can't be smaller than number of revolution\n",
        "        if radial_infeed < 0.005 and cycle[j] >= revolution[i]:\n",
        "# Add all eligible radial infeed, revolution, and cycle values to the coressponding list for the further processing.\n",
        "            radial_infeed_list.append(round(radial_infeed,4))\n",
        "            revolution_list.append(revolution[i])\n",
        "            cycle_list.append(cycle[j])"
      ]
    },
    {
      "cell_type": "markdown",
      "metadata": {
        "id": "heSsXi836gTq"
      },
      "source": [
        "### The constants 10.52 and 2.39 are empirical constants for the KAPP-NILES ZP 40 and ZP i25 machines alone."
      ]
    },
    {
      "cell_type": "markdown",
      "metadata": {
        "id": "xXVKqejv6gTq"
      },
      "source": [
        "## Creating an empty list to store feed rate and further optimize radial infeed, revolution, and cycle values with Q'w constraints"
      ]
    },
    {
      "cell_type": "code",
      "execution_count": null,
      "metadata": {
        "id": "wfkiOJ886gTr"
      },
      "outputs": [],
      "source": [
        "feed_rate_list = []\n",
        "radial_infeed_list_update = []\n",
        "revolution_list_update = []\n",
        "cycle_list_update = []"
      ]
    },
    {
      "cell_type": "code",
      "execution_count": null,
      "metadata": {
        "id": "MsIKNnbp6gTr"
      },
      "outputs": [],
      "source": [
        "#k is the feed rate value, whose range is between 130 and 200\n",
        "for k in range(130,200,1):\n",
        "    for n in range(len(radial_infeed_list)):\n",
        "# Q'w value range constraints. This equation should be fixed.\n",
        "        if min_qw< k * radial_infeed_list[n] * 10.72 < max_qw:\n",
        "# Add all eligible feed rate, radial infeed, revolution, and cycle values to the coressponding list. These lists are the final version, which is part of the hybrid model input.\n",
        "            feed_rate_list.append(k)\n",
        "            radial_infeed_list_update.append(radial_infeed_list[n])\n",
        "            revolution_list_update.append(revolution_list[n])\n",
        "            cycle_list_update.append(cycle_list[n])"
      ]
    },
    {
      "cell_type": "markdown",
      "metadata": {
        "id": "0dOudlR86gTr"
      },
      "source": [
        "### The constant 10.72 is an empirical constant for the KAPP-NILES ZP 40 and ZP i25 machines alone."
      ]
    },
    {
      "cell_type": "markdown",
      "metadata": {
        "id": "E16M7-Yi6gTr"
      },
      "source": [
        "## Generate physics output list"
      ]
    },
    {
      "cell_type": "code",
      "execution_count": null,
      "metadata": {
        "id": "qoetwFSH6gTs"
      },
      "outputs": [],
      "source": [
        "physics_output_list =[]\n",
        "for m in range(len(radial_infeed_list_update)):\n",
        "# Based on physics relationships of CNC Kapps Niles Cylindrical Grinding, we calculate the output of the physical model.\n",
        "    physics_output = radial_infeed_list_update[m] * feed_rate_list[m]/60\n",
        "    physics_output_list.append(physics_output)"
      ]
    },
    {
      "cell_type": "markdown",
      "metadata": {
        "id": "FIh7trVL6gTs"
      },
      "source": [
        "## Generate total stock list"
      ]
    },
    {
      "cell_type": "code",
      "execution_count": null,
      "metadata": {
        "id": "qURyPY3g6gTs"
      },
      "outputs": [],
      "source": [
        "# Create the list that contains all total stock value\n",
        "Total_Stock_list = []\n",
        "\n",
        "for o in range(len(physics_output_list)):\n",
        "    Total_Stock_list.append(roughing_stock)"
      ]
    },
    {
      "cell_type": "markdown",
      "metadata": {
        "id": "Ds_wBWVQ6gTs"
      },
      "source": [
        "## Merge six input parameters together"
      ]
    },
    {
      "cell_type": "code",
      "execution_count": null,
      "metadata": {
        "id": "dsoPlZXB6gTs"
      },
      "outputs": [],
      "source": [
        "# Now we have 6 saperate list for all input parameters and the last step is to merge them together.\n",
        "Model_Input_Data =np.stack((Total_Stock_list,radial_infeed_list_update,feed_rate_list,cycle_list_update,revolution_list_update,physics_output_list), axis=1)"
      ]
    },
    {
      "cell_type": "markdown",
      "metadata": {
        "id": "luM-RZtU6gTs"
      },
      "source": [
        "## Loading pretrained hybrid model parameters and make predictions (first value is total energy and second value is total time)"
      ]
    },
    {
      "cell_type": "code",
      "source": [
        "from google.colab import drive\n",
        "drive.mount('/content/drive/')"
      ],
      "metadata": {
        "colab": {
          "base_uri": "https://localhost:8080/"
        },
        "id": "iyo06uOE8z32",
        "outputId": "2206a0bc-abb1-4fac-b0c6-03a9e982d513"
      },
      "execution_count": null,
      "outputs": [
        {
          "output_type": "stream",
          "name": "stdout",
          "text": [
            "Mounted at /content/drive/\n"
          ]
        }
      ]
    },
    {
      "cell_type": "code",
      "execution_count": null,
      "metadata": {
        "colab": {
          "base_uri": "https://localhost:8080/"
        },
        "id": "ICxLmb5A6gTt",
        "outputId": "075cdce1-0dc0-4aa4-e9cf-f4bf762c9637"
      },
      "outputs": [
        {
          "output_type": "stream",
          "name": "stdout",
          "text": [
            "2/2 [==============================] - 0s 11ms/step\n"
          ]
        }
      ],
      "source": [
        "# The location of the pre-trained model file. Please change it accordingly on your desktop.\n",
        "model = load_model('/content/drive/My Drive/bottom_infusion.h5')\n",
        "# The input contains two parts. The first part contains five parameters (total stock, radial infeed, feed rate, number of cycle, number of revolution). The second part is the output of the physical model (single value).\n",
        "predictions = model.predict([Model_Input_Data[:,:5],Model_Input_Data[:,5:6]])\n",
        "# In order to make hybrid model training convergence fast, the unit of energy is set as kilowatt hour. Now we transfer it to joule.\n",
        "predictions[:,0] = predictions[:,0]*3600000\n"
      ]
    },
    {
      "cell_type": "markdown",
      "metadata": {
        "id": "0kvObYOR6gTt"
      },
      "source": [
        "### The file with the extension 'h5' should be in the same folder as this Python notebook file. Please do not rename that file."
      ]
    },
    {
      "cell_type": "markdown",
      "metadata": {
        "id": "stkEIPJq6gTt"
      },
      "source": [
        "## Obtaining the minimum values of energy and time from the prediction values"
      ]
    },
    {
      "cell_type": "code",
      "execution_count": null,
      "metadata": {
        "id": "pU6SD_ej6gTt"
      },
      "outputs": [],
      "source": [
        "min_row = np.where(predictions==np.min(predictions[:,0]))[0]"
      ]
    },
    {
      "cell_type": "markdown",
      "metadata": {
        "id": "Fz8ke_e76gTt"
      },
      "source": [
        "## Printing the minimum energy/time values and corresponding 6 input parameters values  "
      ]
    },
    {
      "cell_type": "code",
      "execution_count": null,
      "metadata": {
        "id": "QXo-wnPi6gTt",
        "colab": {
          "base_uri": "https://localhost:8080/"
        },
        "outputId": "353cb39d-6278-4418-c863-157ba6b5d1d3"
      },
      "outputs": [
        {
          "output_type": "stream",
          "name": "stdout",
          "text": [
            "\n",
            "\n",
            "RESULTS\n",
            "\n",
            "\n",
            "The PREDICTED minimum time consumption is 188 minutes \n",
            "\n",
            "\n",
            "The PREDICTED minimum energy consumption is 498122080 joules\n",
            "The PREDICTED minimum energy consumption is 138 kWH\n",
            "\n",
            "\n",
            "The affectable process parameters that can lead to the lowest time and energy are:\n",
            "\n",
            "\n",
            "The total stock is 0.0285 inches\n",
            "The radial infeed is 0.0038 inches\n",
            "The Feed rate is 147 inches/min\n",
            "The number of cycles is 3 cycles\n",
            "The number of revolutions is 3 revolutions\n"
          ]
        }
      ],
      "source": [
        "print(\"\\n\")\n",
        "print(\"RESULTS\")\n",
        "print(\"\\n\")\n",
        "print(\"The PREDICTED minimum time consumption is %d minutes \" % predictions[min_row,1])\n",
        "print(\"\\n\")\n",
        "print(\"The PREDICTED minimum energy consumption is %d joules\" % predictions[min_row,0] )\n",
        "print(\"The PREDICTED minimum energy consumption is %d kWH\" % (predictions[min_row,0]/3600000) )\n",
        "print(\"\\n\")\n",
        "print(\"The affectable process parameters that can lead to the lowest time and energy are:\" )\n",
        "print(\"\\n\")\n",
        "print(\"The ROUGHING stock is %g inches\" % Model_Input_Data[min_row,0])\n",
        "print(\"The radial infeed is %g inches\" % Model_Input_Data[min_row,1])\n",
        "print(\"The Feed rate is %g inches/min\" % Model_Input_Data[min_row,2])\n",
        "print(\"The number of cycles is %g cycles\" % Model_Input_Data[min_row,3])\n",
        "print(\"The number of revolutions is %g revolutions\" % Model_Input_Data[min_row,4])"
      ]
    },
    {
      "cell_type": "markdown",
      "metadata": {
        "id": "0-OWvR0t6gTu"
      },
      "source": [
        "Please note that these are suggested process parameters for the highest Q'w value set in a cell above.\n",
        "\n",
        "Please update the maximum value in case you want to view proposed settings for a new Q'w value\n",
        "\n",
        "Any increase in a Q'w value MUST be tested on a SCRAP part in real time before using the same conditions on a production part"
      ]
    }
  ],
  "metadata": {
    "kernelspec": {
      "display_name": "Python 3 (ipykernel)",
      "language": "python",
      "name": "python3"
    },
    "language_info": {
      "codemirror_mode": {
        "name": "ipython",
        "version": 3
      },
      "file_extension": ".py",
      "mimetype": "text/x-python",
      "name": "python",
      "nbconvert_exporter": "python",
      "pygments_lexer": "ipython3",
      "version": "3.9.7"
    },
    "colab": {
      "provenance": [],
      "include_colab_link": true
    }
  },
  "nbformat": 4,
  "nbformat_minor": 0
}